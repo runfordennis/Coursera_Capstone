{
 "cells": [
  {
   "cell_type": "markdown",
   "metadata": {},
   "source": [
    "<h1 align=center><font size = 5>Web Scrapping </font></h1>"
   ]
  },
  {
   "cell_type": "markdown",
   "metadata": {},
   "source": [
    "### Code to Extract Data from Web https://en.wikipedia.org/wiki/List_of_postal_codes_of_Canada:_M"
   ]
  },
  {
   "cell_type": "code",
   "execution_count": 1,
   "metadata": {},
   "outputs": [],
   "source": [
    "import requests # library to handle requests\n",
    "import pandas as pd # library for data analsysis\n",
    "import numpy as np # library to handle data in a vectorized manner"
   ]
  },
  {
   "cell_type": "code",
   "execution_count": 5,
   "metadata": {},
   "outputs": [
    {
     "name": "stdout",
     "output_type": "stream",
     "text": [
      "Requirement already satisfied: beautifulsoup4 in /home/jupyterlab/conda/envs/python/lib/python3.6/site-packages (4.8.0)\n",
      "Requirement already satisfied: soupsieve>=1.2 in /home/jupyterlab/conda/envs/python/lib/python3.6/site-packages (from beautifulsoup4) (1.9.2)\n",
      "Note: you may need to restart the kernel to use updated packages.\n"
     ]
    }
   ],
   "source": [
    "pip install beautifulsoup4"
   ]
  },
  {
   "cell_type": "code",
   "execution_count": 6,
   "metadata": {},
   "outputs": [
    {
     "name": "stdout",
     "output_type": "stream",
     "text": [
      "Requirement already satisfied: lxml in /home/jupyterlab/conda/envs/python/lib/python3.6/site-packages (4.4.0)\n",
      "Note: you may need to restart the kernel to use updated packages.\n"
     ]
    }
   ],
   "source": [
    "pip install lxml"
   ]
  },
  {
   "cell_type": "code",
   "execution_count": 9,
   "metadata": {},
   "outputs": [],
   "source": [
    "from bs4 import BeautifulSoup\n",
    "website_url = 'https://en.wikipedia.org/wiki/List_of_postal_codes_of_Canada:_M'\n",
    "headers={'User Agent': 'Mozilla/5.0'}\n",
    "response=requests.get(website_url, headers=headers)\n",
    "soup=BeautifulSoup(response.content,'html.parser')\n",
    "CANTable=soup.find_all('table',{'class':'wikitable sortable'})\n",
    "CANTable=CANTable[0]\n",
    "\n",
    "with open ('Canada_Neighborhood.txt','w') as r:\n",
    "    for th in CANTable.find_all('th'):\n",
    "        r.write(\"\\\"\" + th.text.strip() + \"\\\"\" + \",\")\n",
    "        r.close\n",
    "with open ('Canada_Neighborhood.txt','a') as r1:\n",
    "    for row in CANTable.find_all('tr'):\n",
    "        r1.write('\\n')\n",
    "        for cell in row.find_all('td'):\n",
    "            r1.write(\"\\\"\" + cell.text.strip() + \"\\\"\" + \",\")\n",
    "            r1.close"
   ]
  },
  {
   "cell_type": "markdown",
   "metadata": {},
   "source": [
    "### Code to import the data from text file to DataFrame and Wrangling the data"
   ]
  },
  {
   "cell_type": "code",
   "execution_count": 10,
   "metadata": {},
   "outputs": [
    {
     "data": {
      "text/html": [
       "<div>\n",
       "<style scoped>\n",
       "    .dataframe tbody tr th:only-of-type {\n",
       "        vertical-align: middle;\n",
       "    }\n",
       "\n",
       "    .dataframe tbody tr th {\n",
       "        vertical-align: top;\n",
       "    }\n",
       "\n",
       "    .dataframe thead th {\n",
       "        text-align: right;\n",
       "    }\n",
       "</style>\n",
       "<table border=\"1\" class=\"dataframe\">\n",
       "  <thead>\n",
       "    <tr style=\"text-align: right;\">\n",
       "      <th></th>\n",
       "      <th>Postcode</th>\n",
       "      <th>Borough</th>\n",
       "      <th>Neighbourhood</th>\n",
       "    </tr>\n",
       "  </thead>\n",
       "  <tbody>\n",
       "    <tr>\n",
       "      <th>0</th>\n",
       "      <td>M3A</td>\n",
       "      <td>North York</td>\n",
       "      <td>Parkwoods</td>\n",
       "    </tr>\n",
       "    <tr>\n",
       "      <th>1</th>\n",
       "      <td>M4A</td>\n",
       "      <td>North York</td>\n",
       "      <td>Victoria Village</td>\n",
       "    </tr>\n",
       "    <tr>\n",
       "      <th>2</th>\n",
       "      <td>M5A</td>\n",
       "      <td>Downtown Toronto</td>\n",
       "      <td>Harbourfront, Regent Park</td>\n",
       "    </tr>\n",
       "    <tr>\n",
       "      <th>3</th>\n",
       "      <td>M6A</td>\n",
       "      <td>North York</td>\n",
       "      <td>Lawrence Heights, Lawrence Manor</td>\n",
       "    </tr>\n",
       "    <tr>\n",
       "      <th>4</th>\n",
       "      <td>M7A</td>\n",
       "      <td>Queen's Park</td>\n",
       "      <td>Queen's Park</td>\n",
       "    </tr>\n",
       "  </tbody>\n",
       "</table>\n",
       "</div>"
      ],
      "text/plain": [
       "  Postcode           Borough                     Neighbourhood\n",
       "0      M3A        North York                         Parkwoods\n",
       "1      M4A        North York                  Victoria Village\n",
       "2      M5A  Downtown Toronto         Harbourfront, Regent Park\n",
       "3      M6A        North York  Lawrence Heights, Lawrence Manor\n",
       "4      M7A      Queen's Park                      Queen's Park"
      ]
     },
     "execution_count": 10,
     "metadata": {},
     "output_type": "execute_result"
    }
   ],
   "source": [
    "import pandas as pd\n",
    "import numpy as np\n",
    "df=pd.read_csv('Canada_Neighborhood.txt', sep=\",\", names=[\"Postcode\", \"Borough\", \"Neighbourhood\"],usecols=[\"Postcode\", \"Borough\", \"Neighbourhood\"], header=0)\n",
    "\n",
    "#striping unwanted spaces.\n",
    "df.rename(columns=lambda x: x.strip())\n",
    "df['Postcode'] = df['Postcode'].str.strip()\n",
    "df['Borough'] = df['Borough'].str.strip()\n",
    "df['Neighbourhood'] = df['Neighbourhood'].str.strip()\n",
    "\n",
    "#deleting Not assigned value from Borough\n",
    "df = df[df.Borough != 'Not assigned']\n",
    "\n",
    "#replacing Not assigned value of Neighbourhood with Borough column value\n",
    "df['Neighbourhood'] = np.where(df['Neighbourhood'] == \"Not assigned\", df['Borough'], df['Neighbourhood'])\n",
    "\n",
    "#Concatenating same Neighbourhood values group by Postcode\n",
    "df['Neighbourhood']= df[['Postcode','Borough','Neighbourhood']].groupby(['Postcode'])['Neighbourhood'].transform(lambda x: ', '.join(x))\n",
    "df=df[['Postcode','Borough','Neighbourhood']].drop_duplicates(inplace=False)\n",
    "df.reset_index(drop=True, inplace=True)\n",
    "df.head()"
   ]
  },
  {
   "cell_type": "code",
   "execution_count": 11,
   "metadata": {},
   "outputs": [
    {
     "data": {
      "text/plain": [
       "Postcode         103\n",
       "Borough          103\n",
       "Neighbourhood    103\n",
       "dtype: int64"
      ]
     },
     "execution_count": 11,
     "metadata": {},
     "output_type": "execute_result"
    }
   ],
   "source": [
    "df.count()"
   ]
  },
  {
   "cell_type": "code",
   "execution_count": null,
   "metadata": {},
   "outputs": [],
   "source": []
  }
 ],
 "metadata": {
  "kernelspec": {
   "display_name": "Python",
   "language": "python",
   "name": "conda-env-python-py"
  },
  "language_info": {
   "codemirror_mode": {
    "name": "ipython",
    "version": 3
   },
   "file_extension": ".py",
   "mimetype": "text/x-python",
   "name": "python",
   "nbconvert_exporter": "python",
   "pygments_lexer": "ipython3",
   "version": "3.6.7"
  }
 },
 "nbformat": 4,
 "nbformat_minor": 4
}
