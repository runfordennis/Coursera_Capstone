{
 "cells": [
  {
   "cell_type": "markdown",
   "metadata": {},
   "source": [
    "# Rent a low cost apartment  in Dublin which is near to the work place"
   ]
  },
  {
   "cell_type": "markdown",
   "metadata": {},
   "source": [
    "*By Chakravarthy Patchigolla*"
   ]
  },
  {
   "cell_type": "markdown",
   "metadata": {},
   "source": [
    "## 1. Introduction - Business Problem"
   ]
  },
  {
   "cell_type": "markdown",
   "metadata": {},
   "source": [
    "**Dublin** is the capital and largest city of Ireland. Situated on a bay on the east coast, at the mouth of the River Liffey and encompasses a land area of approximately 922 km2 in east-central Ireland with a population of 1,345,402 and it has a population desity of 4,811/km2 (12,460/sq mi). Dublin County has more than 27 postal districts from which we are targeting **North Dublin and South Dublin with 22 (D01–D18, D6W, D20, D22, D24) postal districts**.\n",
    "\n",
    "I was in Dublin for 1 year on an assignment and for the first initial weeks i was given accomodation in hotel but i ended up staying for a month paying for the hotel accomodation as i was not able to find an apartment to stay. It was so hard for me to find a **double bed room apartment for rent which is near to my work place and with lower cost.**\n",
    "\n",
    "Since there are lots of apartments in Dublin South/North Districts we will try to detect locations that are close to the work place and apartments that are at lower cost. \n",
    "\n",
    "When we consider all these problems, we can create a map and information chart where the apartment cost is placed on Dublin and each district is clustered according to the venue density."
   ]
  },
  {
   "cell_type": "markdown",
   "metadata": {},
   "source": [
    "## 2. Data Description"
   ]
  },
  {
   "cell_type": "markdown",
   "metadata": {},
   "source": [
    "To consider the problem we can list the datas as below:\n",
    "\n",
    "- I got the list of *Dublin Districts/Borough* and coordinates from **Wikipedia**.\n",
    "- I used **Forsquare API** to get the most common venues of given Borough of Dublin.\n",
    "- From **[daft.ie](https://www.daft.ie/)** we got the data related to average apartment costs in each Districts/Borough. It has average apartment cost for 1 Bed, 2 Bed, 3 Bed ,4 Bed and 5 Beds from which we are considering **2 Bed apartments data only**. The data was not in a structured manner so i set-up my own table for all **22 Districts/Borough for 2 Bed((. The site has unstructured data for different timeframes so i have collected data for all **4 quarters of 2016, 2017, 2018 and Q1 of 2019**.\n",
    "- I used **Google Map, 'Search Nearby'** option to get the center coordinates of the each Districts/Borough."
   ]
  },
  {
   "cell_type": "code",
   "execution_count": null,
   "metadata": {},
   "outputs": [],
   "source": []
  }
 ],
 "metadata": {
  "kernelspec": {
   "display_name": "Python",
   "language": "python",
   "name": "conda-env-python-py"
  },
  "language_info": {
   "codemirror_mode": {
    "name": "ipython",
    "version": 3
   },
   "file_extension": ".py",
   "mimetype": "text/x-python",
   "name": "python",
   "nbconvert_exporter": "python",
   "pygments_lexer": "ipython3",
   "version": "3.6.7"
  }
 },
 "nbformat": 4,
 "nbformat_minor": 4
}
